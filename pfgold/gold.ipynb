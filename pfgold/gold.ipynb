{
 "cells": [
  {
   "cell_type": "code",
   "execution_count": 0,
   "metadata": {
    "application/vnd.databricks.v1+cell": {
     "cellMetadata": {
      "byteLimit": 2048000,
      "rowLimit": 10000
     },
     "inputWidgets": {},
     "nuid": "99087413-15d2-438c-b151-d8ead84c4702",
     "showTitle": false,
     "tableResultSettingsMap": {},
     "title": ""
    }
   },
   "outputs": [],
   "source": [
    "from pyspark.sql import SparkSession\n",
    "from pyspark.sql.functions import col, count, sum, avg, when, countDistinct, desc, rank; from pyspark.sql.window import Window"
   ]
  },
  {
   "cell_type": "code",
   "execution_count": 0,
   "metadata": {
    "application/vnd.databricks.v1+cell": {
     "cellMetadata": {
      "byteLimit": 2048000,
      "rowLimit": 10000
     },
     "inputWidgets": {},
     "nuid": "67606cd8-aa19-4001-85d5-09dfd61e545d",
     "showTitle": false,
     "tableResultSettingsMap": {},
     "title": ""
    }
   },
   "outputs": [],
   "source": [
    "# Initialize Spark session\n",
    "spark = SparkSession.builder.appName(\"GoldLayerTransformations\").getOrCreate()"
   ]
  },
  {
   "cell_type": "code",
   "execution_count": 0,
   "metadata": {
    "application/vnd.databricks.v1+cell": {
     "cellMetadata": {
      "byteLimit": 2048000,
      "rowLimit": 10000
     },
     "inputWidgets": {},
     "nuid": "861ec477-eb49-46aa-8398-d374de5bf0a3",
     "showTitle": false,
     "tableResultSettingsMap": {},
     "title": ""
    }
   },
   "outputs": [],
   "source": [
    "df_books = spark.read.table(\"`lms-catalog`.silver.books\")\n",
    "df_books_copies = spark.read.table(\"`lms-catalog`.silver.books_copies\")\n",
    "df_students = spark.read.table(\"`lms-catalog`.silver.students\")\n",
    "df_books.display()\n",
    "df_books_copies.display()\n",
    "df_students.display()\n"
   ]
  },
  {
   "cell_type": "code",
   "execution_count": 0,
   "metadata": {
    "application/vnd.databricks.v1+cell": {
     "cellMetadata": {
      "byteLimit": 2048000,
      "implicitDf": true,
      "rowLimit": 10000
     },
     "inputWidgets": {},
     "nuid": "c0f1a87d-cda0-4d83-bb02-90eaf40e9396",
     "showTitle": false,
     "tableResultSettingsMap": {},
     "title": ""
    }
   },
   "outputs": [],
   "source": [
    "# Join tables on book_id\n",
    "df_joined = df_books.join(df_books_copies, \"book_id\", \"inner\").display()"
   ]
  },
  {
   "cell_type": "code",
   "execution_count": 0,
   "metadata": {
    "application/vnd.databricks.v1+cell": {
     "cellMetadata": {
      "byteLimit": 2048000,
      "rowLimit": 10000
     },
     "inputWidgets": {},
     "nuid": "29286305-0aee-40f4-8bf6-9ca226517dd6",
     "showTitle": false,
     "tableResultSettingsMap": {},
     "title": ""
    }
   },
   "outputs": [],
   "source": [
    "# Total Books & Copies\n",
    "total_books = df_books.select(countDistinct(\"book_id\").alias(\"total_books\")).collect()[0][\"total_books\"]\n",
    "total_copies = df_books_copies.select(count(\"copy_id\").alias(\"total_copies\")).collect()[0][\"total_copies\"]\n",
    "display(total_books, total_copies)"
   ]
  },
  {
   "cell_type": "code",
   "execution_count": 0,
   "metadata": {
    "application/vnd.databricks.v1+cell": {
     "cellMetadata": {
      "byteLimit": 2048000,
      "rowLimit": 10000
     },
     "inputWidgets": {},
     "nuid": "745e64a2-d3cc-4bd4-b818-5e289119ba86",
     "showTitle": false,
     "tableResultSettingsMap": {},
     "title": ""
    }
   },
   "outputs": [],
   "source": [
    "# Books by Department\n",
    "df_books_by_department = df_books.groupBy(\"department\").count().withColumnRenamed(\"count\", \"book_count\")\n",
    "display(df_books_by_department)"
   ]
  },
  {
   "cell_type": "code",
   "execution_count": 0,
   "metadata": {
    "application/vnd.databricks.v1+cell": {
     "cellMetadata": {
      "byteLimit": 2048000,
      "rowLimit": 10000
     },
     "inputWidgets": {},
     "nuid": "7f230d48-8465-41c3-8a89-00d613751267",
     "showTitle": false,
     "tableResultSettingsMap": {},
     "title": ""
    }
   },
   "outputs": [],
   "source": [
    "# Books by Availability\n",
    "df_books_by_status = df_books_copies.groupBy(\"status\").count().withColumnRenamed(\"count\", \"status_count\")\n",
    "display(df_books_by_status)"
   ]
  },
  {
   "cell_type": "code",
   "execution_count": 0,
   "metadata": {
    "application/vnd.databricks.v1+cell": {
     "cellMetadata": {
      "byteLimit": 2048000,
      "rowLimit": 10000
     },
     "inputWidgets": {},
     "nuid": "8a9546ff-3c86-4c59-a5ef-c6bbf05c7d6c",
     "showTitle": false,
     "tableResultSettingsMap": {},
     "title": ""
    }
   },
   "outputs": [],
   "source": [
    "# Top Authors & Publishers\n",
    "df_top_authors = df_books.groupBy(\"author\").count().orderBy(desc(\"count\")).limit(10)\n",
    "df_top_publishers = df_books.groupBy(\"publisher\").count().orderBy(desc(\"count\")).limit(10)\n",
    "display(df_top_authors, df_top_publishers)"
   ]
  },
  {
   "cell_type": "code",
   "execution_count": 0,
   "metadata": {
    "application/vnd.databricks.v1+cell": {
     "cellMetadata": {
      "byteLimit": 2048000,
      "rowLimit": 10000
     },
     "inputWidgets": {},
     "nuid": "c120ba50-ef12-4cb1-8855-b4b9ac4a1514",
     "showTitle": false,
     "tableResultSettingsMap": {},
     "title": ""
    }
   },
   "outputs": [],
   "source": [
    "# Most Popular Books (Based on Copies)\n",
    "window_spec = Window.orderBy(desc(\"copy_count\"))\n",
    "df_book_popularity = df_books_copies.groupBy(\"book_id\").count().withColumnRenamed(\"count\", \"copy_count\")\n",
    "df_book_popularity = df_book_popularity.withColumn(\"rank\", rank().over(window_spec)).limit(10)\n",
    "df_book_popularity = df_book_popularity.join(df_books.select(\"book_id\", \"book_title\"), \"book_id\")\n",
    "df_book_popularity.show()\n"
   ]
  },
  {
   "cell_type": "code",
   "execution_count": 0,
   "metadata": {
    "application/vnd.databricks.v1+cell": {
     "cellMetadata": {
      "byteLimit": 2048000,
      "rowLimit": 10000
     },
     "inputWidgets": {},
     "nuid": "277780f1-e750-4560-a695-28876a5199bc",
     "showTitle": false,
     "tableResultSettingsMap": {},
     "title": ""
    }
   },
   "outputs": [],
   "source": [
    "# Book Distribution by Location\n",
    "df_location_distribution = df_books_copies.groupBy(\"location\", \"rack\", \"shelf\").count().withColumnRenamed(\"count\", \"books_count\")\n",
    "df_location_distribution.show()"
   ]
  },
  {
   "cell_type": "code",
   "execution_count": 0,
   "metadata": {
    "application/vnd.databricks.v1+cell": {
     "cellMetadata": {
      "byteLimit": 2048000,
      "rowLimit": 10000
     },
     "inputWidgets": {},
     "nuid": "cfb19f53-cc44-4bc1-a797-90025bef6692",
     "showTitle": false,
     "tableResultSettingsMap": {},
     "title": ""
    }
   },
   "outputs": [],
   "source": [
    "# Results Summary\n",
    "print(f\"Total Books: {total_books}, Total Copies: {total_copies}\")"
   ]
  },
  {
   "cell_type": "code",
   "execution_count": 0,
   "metadata": {
    "application/vnd.databricks.v1+cell": {
     "cellMetadata": {
      "byteLimit": 2048000,
      "rowLimit": 10000
     },
     "inputWidgets": {},
     "nuid": "10834819-2036-41c7-a942-8e5a731588ff",
     "showTitle": false,
     "tableResultSettingsMap": {},
     "title": ""
    }
   },
   "outputs": [],
   "source": [
    "df_transactions_q2 = spark.read.table(\"`lms-catalog`.silver.transactions_2020_q2\")\n",
    "df_transactions_q3 = spark.read.table(\"`lms-catalog`.silver.transactions_2020_q3\")\n",
    "df_transactions_q4 = spark.read.table(\"`lms-catalog`.silver.transactions_2020_q4\")\n",
    "display(df_transactions_q2, df_transactions_q3, df_transactions_q4)"
   ]
  },
  {
   "cell_type": "code",
   "execution_count": 0,
   "metadata": {
    "application/vnd.databricks.v1+cell": {
     "cellMetadata": {
      "byteLimit": 2048000,
      "rowLimit": 10000
     },
     "inputWidgets": {},
     "nuid": "79746055-4ebd-495e-bfcf-fba2e979de1a",
     "showTitle": false,
     "tableResultSettingsMap": {},
     "title": ""
    }
   },
   "outputs": [],
   "source": [
    "\n",
    "# Step 1: Join books_table and book_copies_table (Using INNER JOIN) -> books_final_table\n",
    "books_final_table = df_books.join(df_books_copies, on=\"book_id\", how=\"inner\")\n"
   ]
  },
  {
   "cell_type": "code",
   "execution_count": 0,
   "metadata": {
    "application/vnd.databricks.v1+cell": {
     "cellMetadata": {
      "byteLimit": 2048000,
      "rowLimit": 10000
     },
     "inputWidgets": {},
     "nuid": "82fd36e1-3624-4b31-b981-8c0fa21d6aec",
     "showTitle": false,
     "tableResultSettingsMap": {},
     "title": ""
    }
   },
   "outputs": [],
   "source": [
    "# Step 2: Join books_final_table and transaction_table (Using LEFT JOIN) -> books_transaction_table\n",
    "books_transaction_table = books_final_table.join(df_transactions_q2, on=[\"book_id\", \"copy_id\"], how=\"left\")\n",
    "# books_transaction_table = books_final_table.join(df_transactions_q3, on=[\"book_id\", \"copy_id\"], how=\"left\")\n",
    "# books_transaction_table = books_final_table.join(df_transactions_q4, on=[\"book_id\", \"copy_id\"], how=\"left\")\n",
    "display(books_transaction_table)\n"
   ]
  },
  {
   "cell_type": "code",
   "execution_count": 0,
   "metadata": {
    "application/vnd.databricks.v1+cell": {
     "cellMetadata": {
      "byteLimit": 2048000,
      "rowLimit": 10000
     },
     "inputWidgets": {},
     "nuid": "fb5d5b5b-9670-462f-a363-c30123b1c75a",
     "showTitle": false,
     "tableResultSettingsMap": {},
     "title": ""
    }
   },
   "outputs": [],
   "source": [
    "# Step 3: Join students_table and transaction_table (Using RIGHT JOIN) -> student_transaction_table\n",
    "student_transaction_table = df_students.join(df_transactions_q2, on=\"student_id\", how=\"right\")\n",
    "display(student_transaction_table)"
   ]
  },
  {
   "cell_type": "code",
   "execution_count": 0,
   "metadata": {
    "application/vnd.databricks.v1+cell": {
     "cellMetadata": {
      "byteLimit": 2048000,
      "rowLimit": 10000
     },
     "inputWidgets": {},
     "nuid": "31e3db26-c858-4aa4-8747-7eef0d0855be",
     "showTitle": false,
     "tableResultSettingsMap": {},
     "title": ""
    }
   },
   "outputs": [],
   "source": [
    "# Step 4: Transformations on books_transaction_table\n",
    "# Example: Count total transactions per book\n",
    "book_transaction_counts = books_transaction_table.groupBy(\"book_title\").agg(count(\"transaction_id\").alias(\"total_transactions\"))\n",
    "display(book_transaction_counts)\n"
   ]
  },
  {
   "cell_type": "code",
   "execution_count": 0,
   "metadata": {
    "application/vnd.databricks.v1+cell": {
     "cellMetadata": {
      "byteLimit": 2048000,
      "rowLimit": 10000
     },
     "inputWidgets": {},
     "nuid": "44d4ea60-1794-4e59-b896-5b0b14afbf08",
     "showTitle": false,
     "tableResultSettingsMap": {},
     "title": ""
    }
   },
   "outputs": [],
   "source": [
    "# Example: Calculate average fine per book\n",
    "avg_fine_per_book = books_transaction_table.groupBy(\"book_title\").agg(avg(\"fine_amount\").alias(\"average_fine\"))\n",
    "display(avg_fine_per_book)"
   ]
  },
  {
   "cell_type": "code",
   "execution_count": 0,
   "metadata": {
    "application/vnd.databricks.v1+cell": {
     "cellMetadata": {
      "byteLimit": 2048000,
      "rowLimit": 10000
     },
     "inputWidgets": {},
     "nuid": "29e6b086-da7d-480c-9eb1-1e537375b42d",
     "showTitle": false,
     "tableResultSettingsMap": {},
     "title": ""
    }
   },
   "outputs": [],
   "source": [
    "# Example: Average fine per student\n",
    "avg_fine_per_student = student_transaction_table.groupBy(\"student_id\").agg(avg(\"fine_amount\").alias(\"average_fine\"))\n",
    "display(avg_fine_per_student)"
   ]
  },
  {
   "cell_type": "code",
   "execution_count": 0,
   "metadata": {
    "application/vnd.databricks.v1+cell": {
     "cellMetadata": {},
     "inputWidgets": {},
     "nuid": "ba92dee9-3e91-483c-b944-f1bc40ca6ca5",
     "showTitle": false,
     "tableResultSettingsMap": {},
     "title": ""
    }
   },
   "outputs": [],
   "source": [
    "\n"
   ]
  }
 ],
 "metadata": {
  "application/vnd.databricks.v1+notebook": {
   "computePreferences": null,
   "dashboards": [],
   "environmentMetadata": {
    "base_environment": "",
    "environment_version": "2"
   },
   "language": "python",
   "notebookMetadata": {
    "mostRecentlyExecutedCommandWithImplicitDF": {
     "commandId": -1,
     "dataframes": [
      "_sqldf"
     ]
    },
    "pythonIndentUnit": 4
   },
   "notebookName": "gold",
   "widgets": {}
  },
  "language_info": {
   "name": "python"
  }
 },
 "nbformat": 4,
 "nbformat_minor": 0
}
